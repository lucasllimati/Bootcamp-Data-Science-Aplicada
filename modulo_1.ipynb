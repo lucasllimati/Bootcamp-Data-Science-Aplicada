{
  "nbformat": 4,
  "nbformat_minor": 0,
  "metadata": {
    "colab": {
      "name": "modulo-1.ipynb",
      "provenance": [],
      "authorship_tag": "ABX9TyMluXOWuESJPA6ctG1KCPth",
      "include_colab_link": true
    },
    "kernelspec": {
      "name": "python3",
      "display_name": "Python 3"
    },
    "language_info": {
      "name": "python"
    }
  },
  "cells": [
    {
      "cell_type": "markdown",
      "metadata": {
        "id": "view-in-github",
        "colab_type": "text"
      },
      "source": [
        "<a href=\"https://colab.research.google.com/github/lucasllimati/Bootcamp-Data-Science-Aplicada/blob/main/modulo_1.ipynb\" target=\"_parent\"><img src=\"https://colab.research.google.com/assets/colab-badge.svg\" alt=\"Open In Colab\"/></a>"
      ]
    },
    {
      "cell_type": "markdown",
      "metadata": {
        "id": "CL60_R2D22Pk"
      },
      "source": [
        "Caderno de exploração dos dados do datasus 2008 para frente"
      ]
    },
    {
      "cell_type": "markdown",
      "metadata": {
        "id": "-fJ9P_22-Yn4"
      },
      "source": [
        "# 01.Aquisição e leitura de dados reais\n",
        "\n",
        "Analisando dados da saúde (DATASUS) com Python e Pandas\n",
        "Dataset: http://tabnet.datasus.gov.br/cgi/deftohtm.exe?sih/cnv/qiuf.def \n",
        "\n",
        "Filtros aplicados:\n",
        "* Linha: Unidade da Federação\n",
        "* Coluna: Ano/Mês processamento\n",
        "* Conteúdo: Valor total\n",
        "* Períodos disponíveis: Jan/2008 até Mar/2021\n"
      ]
    },
    {
      "cell_type": "markdown",
      "metadata": {
        "id": "GoEI-N8GNM3g"
      },
      "source": [
        "## Produção hospitalar e Pandas"
      ]
    },
    {
      "cell_type": "markdown",
      "metadata": {
        "id": "CbIaIorIPZ0-"
      },
      "source": [
        "Iremos utilizar a biblioteca **pandas**, essa é uma biblioteca de software criada para a linguagem Python para manipulação e análise de dados. Em particular, oferece estruturas e operações para manipular tabelas numéricas e séries temporais."
      ]
    },
    {
      "cell_type": "code",
      "metadata": {
        "id": "O76zghux21yz"
      },
      "source": [
        "# Importação das bibliotecas\n",
        "import pandas as pd"
      ],
      "execution_count": null,
      "outputs": []
    },
    {
      "cell_type": "markdown",
      "metadata": {
        "id": "Dx79lQ3y7_jl"
      },
      "source": [
        "\n",
        "1. Ler o arquivo csv.\n",
        "2. Alterar o enconding para \",\", o arquivo que esta separado por \";\".\n",
        "2. Formatar valores para decimais\n",
        "3. Limpar o arquivo, eliminando as colunas iniciais e finais que não são necessárias. (3 primeiras e 12 ultimas linhas) \n",
        "\n"
      ]
    },
    {
      "cell_type": "code",
      "metadata": {
        "colab": {
          "base_uri": "https://localhost:8080/",
          "height": 372
        },
        "id": "sk7EWsf-3W17",
        "outputId": "e399a65c-3eb9-44b9-f8bd-051484c7dc00"
      },
      "source": [
        "# Limpeza e formatação do dataframe\n",
        "dados = pd.read_csv(\"/content/A213246189_28_143_208.csv\", encoding=\"ISO-8859-1\", skiprows = 3, sep=\";\", skipfooter=12, thousands = \".\", decimal = \",\")\n",
        "\n",
        "# Exibir os 5 primeiros dados do dataframe\n",
        "dados.head()"
      ],
      "execution_count": null,
      "outputs": [
        {
          "output_type": "stream",
          "text": [
            "/usr/local/lib/python3.7/dist-packages/ipykernel_launcher.py:2: ParserWarning: Falling back to the 'python' engine because the 'c' engine does not support skipfooter; you can avoid this warning by specifying engine='python'.\n",
            "  \n"
          ],
          "name": "stderr"
        },
        {
          "output_type": "execute_result",
          "data": {
            "text/html": [
              "<div>\n",
              "<style scoped>\n",
              "    .dataframe tbody tr th:only-of-type {\n",
              "        vertical-align: middle;\n",
              "    }\n",
              "\n",
              "    .dataframe tbody tr th {\n",
              "        vertical-align: top;\n",
              "    }\n",
              "\n",
              "    .dataframe thead th {\n",
              "        text-align: right;\n",
              "    }\n",
              "</style>\n",
              "<table border=\"1\" class=\"dataframe\">\n",
              "  <thead>\n",
              "    <tr style=\"text-align: right;\">\n",
              "      <th></th>\n",
              "      <th>Unidade da Federação</th>\n",
              "      <th>2008/Jan</th>\n",
              "      <th>2008/Fev</th>\n",
              "      <th>2008/Mar</th>\n",
              "      <th>2008/Abr</th>\n",
              "      <th>2008/Mai</th>\n",
              "      <th>2008/Jun</th>\n",
              "      <th>2008/Jul</th>\n",
              "      <th>2008/Ago</th>\n",
              "      <th>2008/Set</th>\n",
              "      <th>2008/Out</th>\n",
              "      <th>2008/Nov</th>\n",
              "      <th>2008/Dez</th>\n",
              "      <th>2009/Jan</th>\n",
              "      <th>2009/Fev</th>\n",
              "      <th>2009/Mar</th>\n",
              "      <th>2009/Abr</th>\n",
              "      <th>2009/Mai</th>\n",
              "      <th>2009/Jun</th>\n",
              "      <th>2009/Jul</th>\n",
              "      <th>2009/Ago</th>\n",
              "      <th>2009/Set</th>\n",
              "      <th>2009/Out</th>\n",
              "      <th>2009/Nov</th>\n",
              "      <th>2009/Dez</th>\n",
              "      <th>2010/Jan</th>\n",
              "      <th>2010/Fev</th>\n",
              "      <th>2010/Mar</th>\n",
              "      <th>2010/Abr</th>\n",
              "      <th>2010/Mai</th>\n",
              "      <th>2010/Jun</th>\n",
              "      <th>2010/Jul</th>\n",
              "      <th>2010/Ago</th>\n",
              "      <th>2010/Set</th>\n",
              "      <th>2010/Out</th>\n",
              "      <th>2010/Nov</th>\n",
              "      <th>2010/Dez</th>\n",
              "      <th>2011/Jan</th>\n",
              "      <th>2011/Fev</th>\n",
              "      <th>2011/Mar</th>\n",
              "      <th>...</th>\n",
              "      <th>2018/Jan</th>\n",
              "      <th>2018/Fev</th>\n",
              "      <th>2018/Mar</th>\n",
              "      <th>2018/Abr</th>\n",
              "      <th>2018/Mai</th>\n",
              "      <th>2018/Jun</th>\n",
              "      <th>2018/Jul</th>\n",
              "      <th>2018/Ago</th>\n",
              "      <th>2018/Set</th>\n",
              "      <th>2018/Out</th>\n",
              "      <th>2018/Nov</th>\n",
              "      <th>2018/Dez</th>\n",
              "      <th>2019/Jan</th>\n",
              "      <th>2019/Fev</th>\n",
              "      <th>2019/Mar</th>\n",
              "      <th>2019/Abr</th>\n",
              "      <th>2019/Mai</th>\n",
              "      <th>2019/Jun</th>\n",
              "      <th>2019/Jul</th>\n",
              "      <th>2019/Ago</th>\n",
              "      <th>2019/Set</th>\n",
              "      <th>2019/Out</th>\n",
              "      <th>2019/Nov</th>\n",
              "      <th>2019/Dez</th>\n",
              "      <th>2020/Jan</th>\n",
              "      <th>2020/Fev</th>\n",
              "      <th>2020/Mar</th>\n",
              "      <th>2020/Abr</th>\n",
              "      <th>2020/Mai</th>\n",
              "      <th>2020/Jun</th>\n",
              "      <th>2020/Jul</th>\n",
              "      <th>2020/Ago</th>\n",
              "      <th>2020/Set</th>\n",
              "      <th>2020/Out</th>\n",
              "      <th>2020/Nov</th>\n",
              "      <th>2020/Dez</th>\n",
              "      <th>2021/Jan</th>\n",
              "      <th>2021/Fev</th>\n",
              "      <th>2021/Mar</th>\n",
              "      <th>Total</th>\n",
              "    </tr>\n",
              "  </thead>\n",
              "  <tbody>\n",
              "    <tr>\n",
              "      <th>0</th>\n",
              "      <td>11 Rondônia</td>\n",
              "      <td>1388528.39</td>\n",
              "      <td>2931283.42</td>\n",
              "      <td>1541682.52</td>\n",
              "      <td>1525314.96</td>\n",
              "      <td>1645953.84</td>\n",
              "      <td>1406150.68</td>\n",
              "      <td>3065279.01</td>\n",
              "      <td>3231494.61</td>\n",
              "      <td>3117178.63</td>\n",
              "      <td>3068430.44</td>\n",
              "      <td>2825838.52</td>\n",
              "      <td>2931173.58</td>\n",
              "      <td>2885269.07</td>\n",
              "      <td>2860103.74</td>\n",
              "      <td>3684944.68</td>\n",
              "      <td>3607289.68</td>\n",
              "      <td>3774356.60</td>\n",
              "      <td>3706711.84</td>\n",
              "      <td>3763187.55</td>\n",
              "      <td>3533625.83</td>\n",
              "      <td>3605007.43</td>\n",
              "      <td>3907032.72</td>\n",
              "      <td>3939820.71</td>\n",
              "      <td>3901084.11</td>\n",
              "      <td>3684407.02</td>\n",
              "      <td>3623015.58</td>\n",
              "      <td>3890461.90</td>\n",
              "      <td>4193533.87</td>\n",
              "      <td>4534400.67</td>\n",
              "      <td>4451208.03</td>\n",
              "      <td>4874592.78</td>\n",
              "      <td>4460802.38</td>\n",
              "      <td>5067886.24</td>\n",
              "      <td>4511092.85</td>\n",
              "      <td>4394680.50</td>\n",
              "      <td>4098741.80</td>\n",
              "      <td>4411499.48</td>\n",
              "      <td>3868617.95</td>\n",
              "      <td>4298702.78</td>\n",
              "      <td>...</td>\n",
              "      <td>7998345.94</td>\n",
              "      <td>8893683.69</td>\n",
              "      <td>8867793.32</td>\n",
              "      <td>8871408.50</td>\n",
              "      <td>8501601.67</td>\n",
              "      <td>8315107.81</td>\n",
              "      <td>8525499.78</td>\n",
              "      <td>9177611.46</td>\n",
              "      <td>7368996.38</td>\n",
              "      <td>8835095.43</td>\n",
              "      <td>8328186.64</td>\n",
              "      <td>8408512.77</td>\n",
              "      <td>9351705.82</td>\n",
              "      <td>8143007.97</td>\n",
              "      <td>8949741.77</td>\n",
              "      <td>9630553.15</td>\n",
              "      <td>9581970.31</td>\n",
              "      <td>7891114.05</td>\n",
              "      <td>9792370.67</td>\n",
              "      <td>9170787.53</td>\n",
              "      <td>8816846.71</td>\n",
              "      <td>10024554.15</td>\n",
              "      <td>9675423.70</td>\n",
              "      <td>8085025.66</td>\n",
              "      <td>9222010.60</td>\n",
              "      <td>7493901.30</td>\n",
              "      <td>8148169.46</td>\n",
              "      <td>7353768.37</td>\n",
              "      <td>7739864.47</td>\n",
              "      <td>9246097.96</td>\n",
              "      <td>11824687.13</td>\n",
              "      <td>11733307.76</td>\n",
              "      <td>10201985.14</td>\n",
              "      <td>7955139.45</td>\n",
              "      <td>9357946.29</td>\n",
              "      <td>8880836.55</td>\n",
              "      <td>9266014.59</td>\n",
              "      <td>7730597.04</td>\n",
              "      <td>11023309.47</td>\n",
              "      <td>9.964113e+08</td>\n",
              "    </tr>\n",
              "    <tr>\n",
              "      <th>1</th>\n",
              "      <td>12 Acre</td>\n",
              "      <td>902416.00</td>\n",
              "      <td>1497206.26</td>\n",
              "      <td>1794028.48</td>\n",
              "      <td>1730469.42</td>\n",
              "      <td>1819443.92</td>\n",
              "      <td>1828496.00</td>\n",
              "      <td>2511754.59</td>\n",
              "      <td>2089107.14</td>\n",
              "      <td>2275708.53</td>\n",
              "      <td>1923886.57</td>\n",
              "      <td>1756986.80</td>\n",
              "      <td>2235639.98</td>\n",
              "      <td>2497116.43</td>\n",
              "      <td>2253558.01</td>\n",
              "      <td>2122673.92</td>\n",
              "      <td>2834317.62</td>\n",
              "      <td>2722065.97</td>\n",
              "      <td>2432831.95</td>\n",
              "      <td>2630190.65</td>\n",
              "      <td>2307579.00</td>\n",
              "      <td>-</td>\n",
              "      <td>2826477.02</td>\n",
              "      <td>2170791.18</td>\n",
              "      <td>2541526.44</td>\n",
              "      <td>2491042.33</td>\n",
              "      <td>1954473.90</td>\n",
              "      <td>2389996.38</td>\n",
              "      <td>2654878.60</td>\n",
              "      <td>2844085.21</td>\n",
              "      <td>2336207.19</td>\n",
              "      <td>2125143.06</td>\n",
              "      <td>2430293.67</td>\n",
              "      <td>2377738.44</td>\n",
              "      <td>2184746.84</td>\n",
              "      <td>2468452.90</td>\n",
              "      <td>2516284.54</td>\n",
              "      <td>3051370.08</td>\n",
              "      <td>2629104.42</td>\n",
              "      <td>2485451.79</td>\n",
              "      <td>...</td>\n",
              "      <td>3576595.19</td>\n",
              "      <td>2444567.37</td>\n",
              "      <td>2602434.35</td>\n",
              "      <td>3064163.42</td>\n",
              "      <td>2276236.69</td>\n",
              "      <td>3239474.10</td>\n",
              "      <td>3126429.88</td>\n",
              "      <td>2998865.51</td>\n",
              "      <td>2619709.86</td>\n",
              "      <td>3018048.94</td>\n",
              "      <td>3342614.24</td>\n",
              "      <td>2123426.26</td>\n",
              "      <td>2664654.52</td>\n",
              "      <td>1906429.95</td>\n",
              "      <td>3096439.63</td>\n",
              "      <td>2411628.00</td>\n",
              "      <td>2840630.58</td>\n",
              "      <td>3260153.59</td>\n",
              "      <td>3250722.84</td>\n",
              "      <td>3204998.88</td>\n",
              "      <td>3052745.65</td>\n",
              "      <td>3124802.29</td>\n",
              "      <td>3021521.75</td>\n",
              "      <td>2874871.28</td>\n",
              "      <td>3331803.55</td>\n",
              "      <td>3417691.07</td>\n",
              "      <td>3076003.20</td>\n",
              "      <td>2286642.60</td>\n",
              "      <td>2896340.24</td>\n",
              "      <td>3045245.80</td>\n",
              "      <td>3915193.20</td>\n",
              "      <td>3640142.82</td>\n",
              "      <td>3391242.21</td>\n",
              "      <td>4044321.44</td>\n",
              "      <td>3276590.10</td>\n",
              "      <td>3696997.31</td>\n",
              "      <td>3715723.12</td>\n",
              "      <td>3538427.92</td>\n",
              "      <td>4077045.92</td>\n",
              "      <td>4.500485e+08</td>\n",
              "    </tr>\n",
              "    <tr>\n",
              "      <th>2</th>\n",
              "      <td>13 Amazonas</td>\n",
              "      <td>4735529.42</td>\n",
              "      <td>7118990.57</td>\n",
              "      <td>8196635.49</td>\n",
              "      <td>8259378.42</td>\n",
              "      <td>7831399.90</td>\n",
              "      <td>8477273.62</td>\n",
              "      <td>9368858.72</td>\n",
              "      <td>9352532.70</td>\n",
              "      <td>9363099.35</td>\n",
              "      <td>8618318.83</td>\n",
              "      <td>6555549.08</td>\n",
              "      <td>7777645.88</td>\n",
              "      <td>7403068.36</td>\n",
              "      <td>6683346.89</td>\n",
              "      <td>9927781.20</td>\n",
              "      <td>8844511.21</td>\n",
              "      <td>9079035.96</td>\n",
              "      <td>8832894.53</td>\n",
              "      <td>9373395.97</td>\n",
              "      <td>9578326.03</td>\n",
              "      <td>9730634.16</td>\n",
              "      <td>9179252.65</td>\n",
              "      <td>8314648.93</td>\n",
              "      <td>9050439.39</td>\n",
              "      <td>9419460.86</td>\n",
              "      <td>8680178.57</td>\n",
              "      <td>9168055.41</td>\n",
              "      <td>9897901.80</td>\n",
              "      <td>9651362.37</td>\n",
              "      <td>10854599.47</td>\n",
              "      <td>10417122.89</td>\n",
              "      <td>8718347.13</td>\n",
              "      <td>8221592.12</td>\n",
              "      <td>9613977.03</td>\n",
              "      <td>9927574.41</td>\n",
              "      <td>9470661.21</td>\n",
              "      <td>9736750.91</td>\n",
              "      <td>8745259.80</td>\n",
              "      <td>9380112.36</td>\n",
              "      <td>...</td>\n",
              "      <td>13572263.03</td>\n",
              "      <td>13083081.70</td>\n",
              "      <td>14322305.22</td>\n",
              "      <td>14643340.51</td>\n",
              "      <td>14632208.09</td>\n",
              "      <td>14500521.14</td>\n",
              "      <td>14840533.42</td>\n",
              "      <td>14427620.91</td>\n",
              "      <td>15818964.25</td>\n",
              "      <td>16358462.57</td>\n",
              "      <td>15391163.74</td>\n",
              "      <td>14154362.85</td>\n",
              "      <td>16791397.31</td>\n",
              "      <td>14369987.43</td>\n",
              "      <td>16339024.96</td>\n",
              "      <td>15622910.63</td>\n",
              "      <td>16483166.92</td>\n",
              "      <td>15422243.28</td>\n",
              "      <td>15961988.04</td>\n",
              "      <td>15787896.78</td>\n",
              "      <td>16515441.67</td>\n",
              "      <td>15788848.91</td>\n",
              "      <td>15784686.14</td>\n",
              "      <td>14388606.82</td>\n",
              "      <td>16063450.73</td>\n",
              "      <td>14939977.20</td>\n",
              "      <td>15107056.74</td>\n",
              "      <td>13534657.88</td>\n",
              "      <td>19698748.89</td>\n",
              "      <td>21129394.43</td>\n",
              "      <td>19769460.14</td>\n",
              "      <td>18059931.43</td>\n",
              "      <td>17841015.63</td>\n",
              "      <td>16408315.10</td>\n",
              "      <td>19895617.91</td>\n",
              "      <td>17765167.69</td>\n",
              "      <td>21430289.17</td>\n",
              "      <td>25917134.55</td>\n",
              "      <td>22032176.22</td>\n",
              "      <td>1.917248e+09</td>\n",
              "    </tr>\n",
              "    <tr>\n",
              "      <th>3</th>\n",
              "      <td>14 Roraima</td>\n",
              "      <td>657889.53</td>\n",
              "      <td>777939.31</td>\n",
              "      <td>718688.03</td>\n",
              "      <td>839994.39</td>\n",
              "      <td>862347.96</td>\n",
              "      <td>832440.66</td>\n",
              "      <td>996693.09</td>\n",
              "      <td>894271.18</td>\n",
              "      <td>910424.17</td>\n",
              "      <td>1191770.32</td>\n",
              "      <td>1056218.71</td>\n",
              "      <td>1244339.25</td>\n",
              "      <td>1085679.25</td>\n",
              "      <td>969528.54</td>\n",
              "      <td>1393226.70</td>\n",
              "      <td>1273734.17</td>\n",
              "      <td>1552638.50</td>\n",
              "      <td>1490587.74</td>\n",
              "      <td>1596751.80</td>\n",
              "      <td>1848998.68</td>\n",
              "      <td>1701611.25</td>\n",
              "      <td>1164711.18</td>\n",
              "      <td>1434809.17</td>\n",
              "      <td>1603817.28</td>\n",
              "      <td>1437340.80</td>\n",
              "      <td>1332094.01</td>\n",
              "      <td>1900513.75</td>\n",
              "      <td>1933875.49</td>\n",
              "      <td>1773958.29</td>\n",
              "      <td>1804729.73</td>\n",
              "      <td>1846639.32</td>\n",
              "      <td>1643518.23</td>\n",
              "      <td>1843163.29</td>\n",
              "      <td>1807885.17</td>\n",
              "      <td>1674871.65</td>\n",
              "      <td>1250999.28</td>\n",
              "      <td>1257275.43</td>\n",
              "      <td>1171045.72</td>\n",
              "      <td>1389668.67</td>\n",
              "      <td>...</td>\n",
              "      <td>2914195.21</td>\n",
              "      <td>2881281.13</td>\n",
              "      <td>2740423.51</td>\n",
              "      <td>2695484.62</td>\n",
              "      <td>2613895.43</td>\n",
              "      <td>3020718.84</td>\n",
              "      <td>2860584.22</td>\n",
              "      <td>2740088.01</td>\n",
              "      <td>2689103.41</td>\n",
              "      <td>2985029.23</td>\n",
              "      <td>2771881.20</td>\n",
              "      <td>2938769.32</td>\n",
              "      <td>2527888.58</td>\n",
              "      <td>2587642.41</td>\n",
              "      <td>1923440.17</td>\n",
              "      <td>2422446.17</td>\n",
              "      <td>2495491.03</td>\n",
              "      <td>2851291.67</td>\n",
              "      <td>3137537.40</td>\n",
              "      <td>3788154.80</td>\n",
              "      <td>3217218.61</td>\n",
              "      <td>3113940.14</td>\n",
              "      <td>3157977.67</td>\n",
              "      <td>3097113.21</td>\n",
              "      <td>3059823.80</td>\n",
              "      <td>2912519.98</td>\n",
              "      <td>2937346.43</td>\n",
              "      <td>2868820.96</td>\n",
              "      <td>2752228.26</td>\n",
              "      <td>3401864.29</td>\n",
              "      <td>3015488.30</td>\n",
              "      <td>2826486.18</td>\n",
              "      <td>2928043.91</td>\n",
              "      <td>3090313.73</td>\n",
              "      <td>3621031.05</td>\n",
              "      <td>3454460.94</td>\n",
              "      <td>3266928.47</td>\n",
              "      <td>3519773.73</td>\n",
              "      <td>3985530.08</td>\n",
              "      <td>3.288770e+08</td>\n",
              "    </tr>\n",
              "    <tr>\n",
              "      <th>4</th>\n",
              "      <td>15 Pará</td>\n",
              "      <td>18864744.11</td>\n",
              "      <td>19553758.20</td>\n",
              "      <td>21937342.70</td>\n",
              "      <td>20842829.69</td>\n",
              "      <td>23249952.88</td>\n",
              "      <td>23240687.56</td>\n",
              "      <td>24002223.56</td>\n",
              "      <td>23341218.03</td>\n",
              "      <td>25172261.32</td>\n",
              "      <td>24011712.48</td>\n",
              "      <td>21526303.70</td>\n",
              "      <td>23896804.99</td>\n",
              "      <td>24613320.93</td>\n",
              "      <td>24015940.01</td>\n",
              "      <td>26624310.10</td>\n",
              "      <td>26478979.58</td>\n",
              "      <td>26366401.19</td>\n",
              "      <td>25440701.25</td>\n",
              "      <td>28079331.88</td>\n",
              "      <td>27588522.26</td>\n",
              "      <td>27967969.22</td>\n",
              "      <td>28430631.19</td>\n",
              "      <td>25432419.12</td>\n",
              "      <td>26405862.20</td>\n",
              "      <td>25841889.70</td>\n",
              "      <td>26527192.33</td>\n",
              "      <td>27433129.31</td>\n",
              "      <td>25753868.16</td>\n",
              "      <td>27515463.84</td>\n",
              "      <td>26934203.47</td>\n",
              "      <td>26668195.02</td>\n",
              "      <td>26606749.81</td>\n",
              "      <td>27226660.53</td>\n",
              "      <td>27185706.84</td>\n",
              "      <td>27019994.90</td>\n",
              "      <td>26036033.25</td>\n",
              "      <td>27913374.40</td>\n",
              "      <td>26771060.28</td>\n",
              "      <td>27060396.38</td>\n",
              "      <td>...</td>\n",
              "      <td>31591185.32</td>\n",
              "      <td>31378879.00</td>\n",
              "      <td>32909877.51</td>\n",
              "      <td>35053278.80</td>\n",
              "      <td>33973133.85</td>\n",
              "      <td>35560757.57</td>\n",
              "      <td>33465172.06</td>\n",
              "      <td>35497371.12</td>\n",
              "      <td>34896020.28</td>\n",
              "      <td>37385364.64</td>\n",
              "      <td>34294171.03</td>\n",
              "      <td>34168505.29</td>\n",
              "      <td>33849909.80</td>\n",
              "      <td>32871717.66</td>\n",
              "      <td>33130995.71</td>\n",
              "      <td>36044319.40</td>\n",
              "      <td>35906526.59</td>\n",
              "      <td>35242306.77</td>\n",
              "      <td>29460144.72</td>\n",
              "      <td>31179893.86</td>\n",
              "      <td>34175218.80</td>\n",
              "      <td>36122298.83</td>\n",
              "      <td>36874442.23</td>\n",
              "      <td>35947766.42</td>\n",
              "      <td>34365985.58</td>\n",
              "      <td>37417579.86</td>\n",
              "      <td>35610330.34</td>\n",
              "      <td>28292446.48</td>\n",
              "      <td>32998806.72</td>\n",
              "      <td>42192745.99</td>\n",
              "      <td>40804126.43</td>\n",
              "      <td>44385715.88</td>\n",
              "      <td>36820249.47</td>\n",
              "      <td>36965931.34</td>\n",
              "      <td>39004315.80</td>\n",
              "      <td>38015145.79</td>\n",
              "      <td>38354682.46</td>\n",
              "      <td>37688314.23</td>\n",
              "      <td>33276392.89</td>\n",
              "      <td>4.705309e+09</td>\n",
              "    </tr>\n",
              "  </tbody>\n",
              "</table>\n",
              "<p>5 rows × 161 columns</p>\n",
              "</div>"
            ],
            "text/plain": [
              "  Unidade da Federação     2008/Jan  ...     2021/Mar         Total\n",
              "0          11 Rondônia   1388528.39  ...  11023309.47  9.964113e+08\n",
              "1              12 Acre    902416.00  ...   4077045.92  4.500485e+08\n",
              "2          13 Amazonas   4735529.42  ...  22032176.22  1.917248e+09\n",
              "3           14 Roraima    657889.53  ...   3985530.08  3.288770e+08\n",
              "4              15 Pará  18864744.11  ...  33276392.89  4.705309e+09\n",
              "\n",
              "[5 rows x 161 columns]"
            ]
          },
          "metadata": {
            "tags": []
          },
          "execution_count": 2
        }
      ]
    },
    {
      "cell_type": "code",
      "metadata": {
        "colab": {
          "base_uri": "https://localhost:8080/",
          "height": 389
        },
        "id": "ZQkaWB1S6_iv",
        "outputId": "5913508d-7a51-46f8-b448-45886e8bb079"
      },
      "source": [
        "# Exibir os 5 últimos dados do dataframe\n",
        "dados.tail()"
      ],
      "execution_count": null,
      "outputs": [
        {
          "output_type": "execute_result",
          "data": {
            "text/html": [
              "<div>\n",
              "<style scoped>\n",
              "    .dataframe tbody tr th:only-of-type {\n",
              "        vertical-align: middle;\n",
              "    }\n",
              "\n",
              "    .dataframe tbody tr th {\n",
              "        vertical-align: top;\n",
              "    }\n",
              "\n",
              "    .dataframe thead th {\n",
              "        text-align: right;\n",
              "    }\n",
              "</style>\n",
              "<table border=\"1\" class=\"dataframe\">\n",
              "  <thead>\n",
              "    <tr style=\"text-align: right;\">\n",
              "      <th></th>\n",
              "      <th>Unidade da Federação</th>\n",
              "      <th>2008/Jan</th>\n",
              "      <th>2008/Fev</th>\n",
              "      <th>2008/Mar</th>\n",
              "      <th>2008/Abr</th>\n",
              "      <th>2008/Mai</th>\n",
              "      <th>2008/Jun</th>\n",
              "      <th>2008/Jul</th>\n",
              "      <th>2008/Ago</th>\n",
              "      <th>2008/Set</th>\n",
              "      <th>2008/Out</th>\n",
              "      <th>2008/Nov</th>\n",
              "      <th>2008/Dez</th>\n",
              "      <th>2009/Jan</th>\n",
              "      <th>2009/Fev</th>\n",
              "      <th>2009/Mar</th>\n",
              "      <th>2009/Abr</th>\n",
              "      <th>2009/Mai</th>\n",
              "      <th>2009/Jun</th>\n",
              "      <th>2009/Jul</th>\n",
              "      <th>2009/Ago</th>\n",
              "      <th>2009/Set</th>\n",
              "      <th>2009/Out</th>\n",
              "      <th>2009/Nov</th>\n",
              "      <th>2009/Dez</th>\n",
              "      <th>2010/Jan</th>\n",
              "      <th>2010/Fev</th>\n",
              "      <th>2010/Mar</th>\n",
              "      <th>2010/Abr</th>\n",
              "      <th>2010/Mai</th>\n",
              "      <th>2010/Jun</th>\n",
              "      <th>2010/Jul</th>\n",
              "      <th>2010/Ago</th>\n",
              "      <th>2010/Set</th>\n",
              "      <th>2010/Out</th>\n",
              "      <th>2010/Nov</th>\n",
              "      <th>2010/Dez</th>\n",
              "      <th>2011/Jan</th>\n",
              "      <th>2011/Fev</th>\n",
              "      <th>2011/Mar</th>\n",
              "      <th>...</th>\n",
              "      <th>2018/Jan</th>\n",
              "      <th>2018/Fev</th>\n",
              "      <th>2018/Mar</th>\n",
              "      <th>2018/Abr</th>\n",
              "      <th>2018/Mai</th>\n",
              "      <th>2018/Jun</th>\n",
              "      <th>2018/Jul</th>\n",
              "      <th>2018/Ago</th>\n",
              "      <th>2018/Set</th>\n",
              "      <th>2018/Out</th>\n",
              "      <th>2018/Nov</th>\n",
              "      <th>2018/Dez</th>\n",
              "      <th>2019/Jan</th>\n",
              "      <th>2019/Fev</th>\n",
              "      <th>2019/Mar</th>\n",
              "      <th>2019/Abr</th>\n",
              "      <th>2019/Mai</th>\n",
              "      <th>2019/Jun</th>\n",
              "      <th>2019/Jul</th>\n",
              "      <th>2019/Ago</th>\n",
              "      <th>2019/Set</th>\n",
              "      <th>2019/Out</th>\n",
              "      <th>2019/Nov</th>\n",
              "      <th>2019/Dez</th>\n",
              "      <th>2020/Jan</th>\n",
              "      <th>2020/Fev</th>\n",
              "      <th>2020/Mar</th>\n",
              "      <th>2020/Abr</th>\n",
              "      <th>2020/Mai</th>\n",
              "      <th>2020/Jun</th>\n",
              "      <th>2020/Jul</th>\n",
              "      <th>2020/Ago</th>\n",
              "      <th>2020/Set</th>\n",
              "      <th>2020/Out</th>\n",
              "      <th>2020/Nov</th>\n",
              "      <th>2020/Dez</th>\n",
              "      <th>2021/Jan</th>\n",
              "      <th>2021/Fev</th>\n",
              "      <th>2021/Mar</th>\n",
              "      <th>Total</th>\n",
              "    </tr>\n",
              "  </thead>\n",
              "  <tbody>\n",
              "    <tr>\n",
              "      <th>22</th>\n",
              "      <td>43 Rio Grande do Sul</td>\n",
              "      <td>30931325.46</td>\n",
              "      <td>57363420.01</td>\n",
              "      <td>51547794.07</td>\n",
              "      <td>56673338.49</td>\n",
              "      <td>48397733.07</td>\n",
              "      <td>52413429.62</td>\n",
              "      <td>56636376.98</td>\n",
              "      <td>56113054.70</td>\n",
              "      <td>55356224.30</td>\n",
              "      <td>53637713.13</td>\n",
              "      <td>53699506.08</td>\n",
              "      <td>58730379.58</td>\n",
              "      <td>57629317.06</td>\n",
              "      <td>58779088.02</td>\n",
              "      <td>63366430.89</td>\n",
              "      <td>62200230.97</td>\n",
              "      <td>61683824.68</td>\n",
              "      <td>62495363.90</td>\n",
              "      <td>64614271.83</td>\n",
              "      <td>66457445.34</td>\n",
              "      <td>66425009.36</td>\n",
              "      <td>65782428.73</td>\n",
              "      <td>63714541.87</td>\n",
              "      <td>64488493.88</td>\n",
              "      <td>66304168.50</td>\n",
              "      <td>61527419.52</td>\n",
              "      <td>62490522.38</td>\n",
              "      <td>66814413.40</td>\n",
              "      <td>67900518.35</td>\n",
              "      <td>64799726.75</td>\n",
              "      <td>68518232.07</td>\n",
              "      <td>68731297.03</td>\n",
              "      <td>66174969.16</td>\n",
              "      <td>66891309.48</td>\n",
              "      <td>67456434.73</td>\n",
              "      <td>67096302.52</td>\n",
              "      <td>60754144.32</td>\n",
              "      <td>58884339.85</td>\n",
              "      <td>66205364.40</td>\n",
              "      <td>...</td>\n",
              "      <td>88817066.36</td>\n",
              "      <td>80572288.45</td>\n",
              "      <td>87419899.25</td>\n",
              "      <td>89396935.52</td>\n",
              "      <td>88148251.61</td>\n",
              "      <td>90754504.49</td>\n",
              "      <td>89093690.14</td>\n",
              "      <td>94010888.97</td>\n",
              "      <td>93664724.68</td>\n",
              "      <td>90025945.36</td>\n",
              "      <td>93081292.31</td>\n",
              "      <td>89050712.34</td>\n",
              "      <td>89664703.23</td>\n",
              "      <td>89259306.50</td>\n",
              "      <td>85585754.75</td>\n",
              "      <td>95152786.47</td>\n",
              "      <td>94163838.23</td>\n",
              "      <td>92237333.46</td>\n",
              "      <td>1.022983e+08</td>\n",
              "      <td>1.002601e+08</td>\n",
              "      <td>95917106.56</td>\n",
              "      <td>1.023316e+08</td>\n",
              "      <td>93971904.79</td>\n",
              "      <td>90775418.13</td>\n",
              "      <td>94908336.74</td>\n",
              "      <td>91437940.91</td>\n",
              "      <td>1.028761e+08</td>\n",
              "      <td>83000318.02</td>\n",
              "      <td>82381774.95</td>\n",
              "      <td>86092502.24</td>\n",
              "      <td>1.005793e+08</td>\n",
              "      <td>1.026100e+08</td>\n",
              "      <td>1.044010e+08</td>\n",
              "      <td>1.174583e+08</td>\n",
              "      <td>1.088539e+08</td>\n",
              "      <td>1.117605e+08</td>\n",
              "      <td>1.199924e+08</td>\n",
              "      <td>1.117974e+08</td>\n",
              "      <td>1.301552e+08</td>\n",
              "      <td>1.276439e+10</td>\n",
              "    </tr>\n",
              "    <tr>\n",
              "      <th>23</th>\n",
              "      <td>50 Mato Grosso do Sul</td>\n",
              "      <td>5377392.11</td>\n",
              "      <td>7002472.61</td>\n",
              "      <td>8423933.19</td>\n",
              "      <td>8797487.68</td>\n",
              "      <td>9770421.80</td>\n",
              "      <td>10905392.18</td>\n",
              "      <td>10249299.82</td>\n",
              "      <td>9671553.45</td>\n",
              "      <td>10218511.05</td>\n",
              "      <td>9547923.55</td>\n",
              "      <td>9450010.19</td>\n",
              "      <td>8365709.79</td>\n",
              "      <td>10033643.71</td>\n",
              "      <td>10746263.10</td>\n",
              "      <td>10849523.03</td>\n",
              "      <td>10902848.13</td>\n",
              "      <td>11991649.26</td>\n",
              "      <td>12050259.66</td>\n",
              "      <td>12174950.98</td>\n",
              "      <td>11178470.01</td>\n",
              "      <td>11997775.92</td>\n",
              "      <td>11686533.15</td>\n",
              "      <td>10756188.43</td>\n",
              "      <td>10565385.71</td>\n",
              "      <td>12148432.58</td>\n",
              "      <td>11270972.80</td>\n",
              "      <td>11947693.50</td>\n",
              "      <td>11435565.54</td>\n",
              "      <td>12392541.52</td>\n",
              "      <td>12441459.98</td>\n",
              "      <td>12025317.84</td>\n",
              "      <td>12353546.78</td>\n",
              "      <td>12381792.58</td>\n",
              "      <td>12340247.31</td>\n",
              "      <td>12467693.91</td>\n",
              "      <td>12356930.32</td>\n",
              "      <td>11209008.55</td>\n",
              "      <td>9656677.02</td>\n",
              "      <td>13698836.79</td>\n",
              "      <td>...</td>\n",
              "      <td>16320629.25</td>\n",
              "      <td>18448053.83</td>\n",
              "      <td>16620321.36</td>\n",
              "      <td>16682027.02</td>\n",
              "      <td>17555832.83</td>\n",
              "      <td>17357780.20</td>\n",
              "      <td>17090876.79</td>\n",
              "      <td>16468255.95</td>\n",
              "      <td>17395858.50</td>\n",
              "      <td>16259261.13</td>\n",
              "      <td>16390075.24</td>\n",
              "      <td>15350893.92</td>\n",
              "      <td>17108719.02</td>\n",
              "      <td>17713810.57</td>\n",
              "      <td>16882690.96</td>\n",
              "      <td>18253870.27</td>\n",
              "      <td>17778458.45</td>\n",
              "      <td>18387822.48</td>\n",
              "      <td>1.987093e+07</td>\n",
              "      <td>1.891386e+07</td>\n",
              "      <td>19591383.84</td>\n",
              "      <td>1.893544e+07</td>\n",
              "      <td>17230688.81</td>\n",
              "      <td>17895244.76</td>\n",
              "      <td>18115134.64</td>\n",
              "      <td>19542439.88</td>\n",
              "      <td>1.903279e+07</td>\n",
              "      <td>17410262.53</td>\n",
              "      <td>17913161.92</td>\n",
              "      <td>17363192.43</td>\n",
              "      <td>1.885884e+07</td>\n",
              "      <td>1.987708e+07</td>\n",
              "      <td>1.924789e+07</td>\n",
              "      <td>1.949721e+07</td>\n",
              "      <td>2.202313e+07</td>\n",
              "      <td>1.962959e+07</td>\n",
              "      <td>2.169331e+07</td>\n",
              "      <td>2.433730e+07</td>\n",
              "      <td>2.516820e+07</td>\n",
              "      <td>2.324525e+09</td>\n",
              "    </tr>\n",
              "    <tr>\n",
              "      <th>24</th>\n",
              "      <td>51 Mato Grosso</td>\n",
              "      <td>4795299.01</td>\n",
              "      <td>8684882.23</td>\n",
              "      <td>7886243.14</td>\n",
              "      <td>8794109.79</td>\n",
              "      <td>9231645.40</td>\n",
              "      <td>10221763.77</td>\n",
              "      <td>9163314.28</td>\n",
              "      <td>9243148.81</td>\n",
              "      <td>9052354.89</td>\n",
              "      <td>9677093.95</td>\n",
              "      <td>7150345.50</td>\n",
              "      <td>10421826.32</td>\n",
              "      <td>9939399.66</td>\n",
              "      <td>9332546.32</td>\n",
              "      <td>11965500.15</td>\n",
              "      <td>11185014.96</td>\n",
              "      <td>12058150.55</td>\n",
              "      <td>11635436.04</td>\n",
              "      <td>11698836.48</td>\n",
              "      <td>11823239.61</td>\n",
              "      <td>10810420.65</td>\n",
              "      <td>12130636.06</td>\n",
              "      <td>11574096.75</td>\n",
              "      <td>10726251.53</td>\n",
              "      <td>12364760.67</td>\n",
              "      <td>11382133.07</td>\n",
              "      <td>11947040.32</td>\n",
              "      <td>12233217.84</td>\n",
              "      <td>12656421.09</td>\n",
              "      <td>11263407.74</td>\n",
              "      <td>12795267.96</td>\n",
              "      <td>12805173.87</td>\n",
              "      <td>12171713.91</td>\n",
              "      <td>11961452.83</td>\n",
              "      <td>11777799.00</td>\n",
              "      <td>11142684.27</td>\n",
              "      <td>11709080.86</td>\n",
              "      <td>11149107.81</td>\n",
              "      <td>12381255.67</td>\n",
              "      <td>...</td>\n",
              "      <td>17253950.09</td>\n",
              "      <td>14789801.16</td>\n",
              "      <td>17498946.87</td>\n",
              "      <td>16279852.74</td>\n",
              "      <td>16103988.77</td>\n",
              "      <td>15883977.51</td>\n",
              "      <td>17163673.03</td>\n",
              "      <td>15569285.17</td>\n",
              "      <td>15630276.46</td>\n",
              "      <td>15838064.68</td>\n",
              "      <td>14815961.13</td>\n",
              "      <td>13853034.99</td>\n",
              "      <td>14229113.36</td>\n",
              "      <td>15288698.79</td>\n",
              "      <td>16045499.92</td>\n",
              "      <td>15890208.95</td>\n",
              "      <td>16092716.67</td>\n",
              "      <td>16699780.69</td>\n",
              "      <td>1.631481e+07</td>\n",
              "      <td>1.676358e+07</td>\n",
              "      <td>15608982.84</td>\n",
              "      <td>1.585564e+07</td>\n",
              "      <td>15823328.54</td>\n",
              "      <td>15032737.51</td>\n",
              "      <td>15259436.50</td>\n",
              "      <td>15066106.66</td>\n",
              "      <td>1.490697e+07</td>\n",
              "      <td>12563655.61</td>\n",
              "      <td>13632848.78</td>\n",
              "      <td>13215428.53</td>\n",
              "      <td>1.683465e+07</td>\n",
              "      <td>1.970492e+07</td>\n",
              "      <td>2.074623e+07</td>\n",
              "      <td>2.272741e+07</td>\n",
              "      <td>2.050604e+07</td>\n",
              "      <td>1.958380e+07</td>\n",
              "      <td>1.912014e+07</td>\n",
              "      <td>1.834938e+07</td>\n",
              "      <td>1.961103e+07</td>\n",
              "      <td>2.180120e+09</td>\n",
              "    </tr>\n",
              "    <tr>\n",
              "      <th>25</th>\n",
              "      <td>52 Goiás</td>\n",
              "      <td>15310637.29</td>\n",
              "      <td>22258668.68</td>\n",
              "      <td>21442515.75</td>\n",
              "      <td>20921212.45</td>\n",
              "      <td>21615970.67</td>\n",
              "      <td>18270043.87</td>\n",
              "      <td>20540517.13</td>\n",
              "      <td>20650730.67</td>\n",
              "      <td>20868443.56</td>\n",
              "      <td>20621423.04</td>\n",
              "      <td>17094580.10</td>\n",
              "      <td>21615561.61</td>\n",
              "      <td>20678552.05</td>\n",
              "      <td>23043942.78</td>\n",
              "      <td>23334312.45</td>\n",
              "      <td>23508108.16</td>\n",
              "      <td>23947606.91</td>\n",
              "      <td>24369848.15</td>\n",
              "      <td>24577126.64</td>\n",
              "      <td>24372626.65</td>\n",
              "      <td>25227845.74</td>\n",
              "      <td>24746686.90</td>\n",
              "      <td>24628958.50</td>\n",
              "      <td>25524615.37</td>\n",
              "      <td>23352380.22</td>\n",
              "      <td>23520045.07</td>\n",
              "      <td>25369725.89</td>\n",
              "      <td>24404417.42</td>\n",
              "      <td>24987745.86</td>\n",
              "      <td>24954391.09</td>\n",
              "      <td>25711601.13</td>\n",
              "      <td>27198788.35</td>\n",
              "      <td>26672124.45</td>\n",
              "      <td>24964871.71</td>\n",
              "      <td>25671135.81</td>\n",
              "      <td>25260713.05</td>\n",
              "      <td>25171493.79</td>\n",
              "      <td>26401745.02</td>\n",
              "      <td>29060487.72</td>\n",
              "      <td>...</td>\n",
              "      <td>32756500.63</td>\n",
              "      <td>29752825.71</td>\n",
              "      <td>35353238.97</td>\n",
              "      <td>33126994.54</td>\n",
              "      <td>33321916.56</td>\n",
              "      <td>35536937.30</td>\n",
              "      <td>35009953.87</td>\n",
              "      <td>33899286.36</td>\n",
              "      <td>33936535.21</td>\n",
              "      <td>34482719.13</td>\n",
              "      <td>33695646.06</td>\n",
              "      <td>36347762.27</td>\n",
              "      <td>35162665.51</td>\n",
              "      <td>33658226.73</td>\n",
              "      <td>36733253.84</td>\n",
              "      <td>36260374.54</td>\n",
              "      <td>38159986.89</td>\n",
              "      <td>37236918.46</td>\n",
              "      <td>3.776923e+07</td>\n",
              "      <td>3.797974e+07</td>\n",
              "      <td>37470767.39</td>\n",
              "      <td>3.733727e+07</td>\n",
              "      <td>35734855.79</td>\n",
              "      <td>34879373.70</td>\n",
              "      <td>35794874.64</td>\n",
              "      <td>35048141.29</td>\n",
              "      <td>3.484394e+07</td>\n",
              "      <td>30932236.73</td>\n",
              "      <td>34406945.17</td>\n",
              "      <td>36101619.85</td>\n",
              "      <td>4.060622e+07</td>\n",
              "      <td>4.622936e+07</td>\n",
              "      <td>4.488959e+07</td>\n",
              "      <td>4.552950e+07</td>\n",
              "      <td>4.303760e+07</td>\n",
              "      <td>4.414735e+07</td>\n",
              "      <td>4.612776e+07</td>\n",
              "      <td>4.274277e+07</td>\n",
              "      <td>4.559269e+07</td>\n",
              "      <td>4.973574e+09</td>\n",
              "    </tr>\n",
              "    <tr>\n",
              "      <th>26</th>\n",
              "      <td>53 Distrito Federal</td>\n",
              "      <td>4745919.19</td>\n",
              "      <td>7632480.67</td>\n",
              "      <td>9647203.26</td>\n",
              "      <td>11098732.99</td>\n",
              "      <td>12891719.72</td>\n",
              "      <td>12850125.67</td>\n",
              "      <td>12565646.74</td>\n",
              "      <td>13710857.89</td>\n",
              "      <td>13165106.20</td>\n",
              "      <td>15048607.23</td>\n",
              "      <td>11343166.62</td>\n",
              "      <td>14727561.06</td>\n",
              "      <td>12448821.12</td>\n",
              "      <td>10378991.59</td>\n",
              "      <td>13844384.56</td>\n",
              "      <td>13014468.49</td>\n",
              "      <td>15199322.19</td>\n",
              "      <td>15839446.00</td>\n",
              "      <td>14075642.84</td>\n",
              "      <td>15070287.19</td>\n",
              "      <td>14487053.32</td>\n",
              "      <td>14794759.93</td>\n",
              "      <td>13970147.70</td>\n",
              "      <td>12231919.68</td>\n",
              "      <td>14152357.41</td>\n",
              "      <td>12797956.47</td>\n",
              "      <td>14766108.89</td>\n",
              "      <td>14251503.37</td>\n",
              "      <td>13992321.87</td>\n",
              "      <td>13029712.13</td>\n",
              "      <td>13731431.47</td>\n",
              "      <td>14492891.90</td>\n",
              "      <td>13708967.72</td>\n",
              "      <td>13154297.48</td>\n",
              "      <td>14017191.90</td>\n",
              "      <td>13892860.69</td>\n",
              "      <td>13685193.15</td>\n",
              "      <td>12596227.92</td>\n",
              "      <td>13776613.55</td>\n",
              "      <td>...</td>\n",
              "      <td>17127571.95</td>\n",
              "      <td>18222787.66</td>\n",
              "      <td>20340897.78</td>\n",
              "      <td>20522181.19</td>\n",
              "      <td>20343407.23</td>\n",
              "      <td>21542121.59</td>\n",
              "      <td>22301468.16</td>\n",
              "      <td>23318726.05</td>\n",
              "      <td>20307075.79</td>\n",
              "      <td>18600258.14</td>\n",
              "      <td>16518323.98</td>\n",
              "      <td>13970506.60</td>\n",
              "      <td>20192152.35</td>\n",
              "      <td>18496333.16</td>\n",
              "      <td>22191795.70</td>\n",
              "      <td>18562231.92</td>\n",
              "      <td>20360779.48</td>\n",
              "      <td>20187082.38</td>\n",
              "      <td>2.221615e+07</td>\n",
              "      <td>2.330918e+07</td>\n",
              "      <td>17870194.68</td>\n",
              "      <td>1.785960e+07</td>\n",
              "      <td>19851940.18</td>\n",
              "      <td>18769437.77</td>\n",
              "      <td>22341629.09</td>\n",
              "      <td>20643441.06</td>\n",
              "      <td>2.294716e+07</td>\n",
              "      <td>21536505.16</td>\n",
              "      <td>19058243.91</td>\n",
              "      <td>22704335.27</td>\n",
              "      <td>2.526977e+07</td>\n",
              "      <td>2.652620e+07</td>\n",
              "      <td>2.005659e+07</td>\n",
              "      <td>2.085625e+07</td>\n",
              "      <td>2.045933e+07</td>\n",
              "      <td>2.299157e+07</td>\n",
              "      <td>2.352705e+07</td>\n",
              "      <td>2.276695e+07</td>\n",
              "      <td>3.183192e+07</td>\n",
              "      <td>2.592423e+09</td>\n",
              "    </tr>\n",
              "  </tbody>\n",
              "</table>\n",
              "<p>5 rows × 161 columns</p>\n",
              "</div>"
            ],
            "text/plain": [
              "     Unidade da Federação     2008/Jan  ...      2021/Mar         Total\n",
              "22   43 Rio Grande do Sul  30931325.46  ...  1.301552e+08  1.276439e+10\n",
              "23  50 Mato Grosso do Sul   5377392.11  ...  2.516820e+07  2.324525e+09\n",
              "24         51 Mato Grosso   4795299.01  ...  1.961103e+07  2.180120e+09\n",
              "25               52 Goiás  15310637.29  ...  4.559269e+07  4.973574e+09\n",
              "26    53 Distrito Federal   4745919.19  ...  3.183192e+07  2.592423e+09\n",
              "\n",
              "[5 rows x 161 columns]"
            ]
          },
          "metadata": {
            "tags": []
          },
          "execution_count": 3
        }
      ]
    },
    {
      "cell_type": "code",
      "metadata": {
        "colab": {
          "base_uri": "https://localhost:8080/"
        },
        "id": "xMiVQVEL7iSW",
        "outputId": "9d0e18d5-22f0-49b3-a4a6-2fd90c40ba0c"
      },
      "source": [
        "# Informações do dataframe\n",
        "dados.info()"
      ],
      "execution_count": null,
      "outputs": [
        {
          "output_type": "stream",
          "text": [
            "<class 'pandas.core.frame.DataFrame'>\n",
            "RangeIndex: 27 entries, 0 to 26\n",
            "Columns: 161 entries, Unidade da Federação to Total\n",
            "dtypes: float64(159), object(2)\n",
            "memory usage: 34.1+ KB\n"
          ],
          "name": "stdout"
        }
      ]
    },
    {
      "cell_type": "code",
      "metadata": {
        "id": "S9HK7Sf69oXT"
      },
      "source": [
        "# Formatando valor para decimais\n",
        "pd.options.display.float_format = \"{:.2f}\".format"
      ],
      "execution_count": null,
      "outputs": []
    },
    {
      "cell_type": "code",
      "metadata": {
        "colab": {
          "base_uri": "https://localhost:8080/"
        },
        "id": "hocLgNcS7lJ2",
        "outputId": "5e8a21a0-351e-451a-cc3a-3dcf974a1c1b"
      },
      "source": [
        "# Média mensal\n",
        "dados.mean()"
      ],
      "execution_count": null,
      "outputs": [
        {
          "output_type": "execute_result",
          "data": {
            "text/plain": [
              "2008/Jan     15126846.64\n",
              "2008/Fev     22710158.12\n",
              "2008/Mar     24594187.35\n",
              "2008/Abr     25431957.83\n",
              "2008/Mai     26511245.91\n",
              "                ...     \n",
              "2020/Dez     53377763.15\n",
              "2021/Jan     56073748.02\n",
              "2021/Fev     55578233.31\n",
              "2021/Mar     62502301.42\n",
              "Total      6388213338.48\n",
              "Length: 159, dtype: float64"
            ]
          },
          "metadata": {
            "tags": []
          },
          "execution_count": 6
        }
      ]
    },
    {
      "cell_type": "code",
      "metadata": {
        "colab": {
          "base_uri": "https://localhost:8080/"
        },
        "id": "edeJlnFn91Ga",
        "outputId": "7a1e3d9e-9f26-47e4-8a3b-a654d6646e95"
      },
      "source": [
        "# Filtrando mês específico\n",
        "dados[\"2008/Ago\"]"
      ],
      "execution_count": null,
      "outputs": [
        {
          "output_type": "execute_result",
          "data": {
            "text/plain": [
              "0      3231494.61\n",
              "1      2089107.14\n",
              "2      9352532.70\n",
              "3       894271.18\n",
              "4     23341218.03\n",
              "5      1475551.38\n",
              "6      5413710.38\n",
              "7     15195312.89\n",
              "8     10549176.40\n",
              "9     27851438.72\n",
              "10    10640817.47\n",
              "11    12872578.37\n",
              "12    35457038.66\n",
              "13     9373432.00\n",
              "14     5238398.50\n",
              "15    46931248.28\n",
              "16    84722528.10\n",
              "17    12588595.77\n",
              "18    50912706.60\n",
              "19   184854516.35\n",
              "20    56982774.90\n",
              "21    31250854.33\n",
              "22    56113054.70\n",
              "23     9671553.45\n",
              "24     9243148.81\n",
              "25    20650730.67\n",
              "26    13710857.89\n",
              "Name: 2008/Ago, dtype: float64"
            ]
          },
          "metadata": {
            "tags": []
          },
          "execution_count": 7
        }
      ]
    },
    {
      "cell_type": "code",
      "metadata": {
        "colab": {
          "base_uri": "https://localhost:8080/"
        },
        "id": "PPxQDGCzCN9a",
        "outputId": "7cea6dee-5964-490a-e5c9-f3a03e1616d8"
      },
      "source": [
        "# Média do mês Janeiro 2008\n",
        "dados[\"2008/Ago\"].mean()"
      ],
      "execution_count": null,
      "outputs": [
        {
          "output_type": "execute_result",
          "data": {
            "text/plain": [
              "27800320.306666665"
            ]
          },
          "metadata": {
            "tags": []
          },
          "execution_count": 8
        }
      ]
    },
    {
      "cell_type": "markdown",
      "metadata": {
        "id": "RW87e7KeNGPg"
      },
      "source": [
        "## Visualização e gráficos"
      ]
    },
    {
      "cell_type": "markdown",
      "metadata": {
        "id": "iWyTDNl_OfjH"
      },
      "source": [
        "Vamos verificar os gastos por estados, considerando o mês Agosto de 2008"
      ]
    },
    {
      "cell_type": "code",
      "metadata": {
        "colab": {
          "base_uri": "https://localhost:8080/",
          "height": 308
        },
        "id": "WwVqM9D3Dp-o",
        "outputId": "50f0bf2a-4021-4032-8066-b2ee345be84d"
      },
      "source": [
        "dados.plot(x = \"Unidade da Federação\", y = \"2008/Ago\")"
      ],
      "execution_count": null,
      "outputs": [
        {
          "output_type": "execute_result",
          "data": {
            "text/plain": [
              "<matplotlib.axes._subplots.AxesSubplot at 0x7fe0d20631d0>"
            ]
          },
          "metadata": {
            "tags": []
          },
          "execution_count": 9
        },
        {
          "output_type": "display_data",
          "data": {
            "image/png": "[encoded data removed]",
            "text/plain": [
              "<Figure size 432x288 with 1 Axes>"
            ]
          },
          "metadata": {
            "tags": [],
            "needs_background": "light"
          }
        }
      ]
    },
    {
      "cell_type": "markdown",
      "metadata": {
        "id": "QTzSox25OWoK"
      },
      "source": [
        "A melhor forma de representar esse dado, seria utilizar o gráfico de barras que ira melhoras a vizualização dos gastos pelos estados.\n",
        "\n",
        "\n"
      ]
    },
    {
      "cell_type": "code",
      "metadata": {
        "colab": {
          "base_uri": "https://localhost:8080/",
          "height": 578
        },
        "id": "KK8-kHnbD7WG",
        "outputId": "2185545c-cbc5-4359-8ab9-814f56185135"
      },
      "source": [
        "dados.plot(x = \"Unidade da Federação\", y = \"2008/Ago\", kind = \"bar\", figsize=(10 , 7))"
      ],
      "execution_count": null,
      "outputs": [
        {
          "output_type": "execute_result",
          "data": {
            "text/plain": [
              "<matplotlib.axes._subplots.AxesSubplot at 0x7fe0d20b4690>"
            ]
          },
          "metadata": {
            "tags": []
          },
          "execution_count": 10
        },
        {
          "output_type": "display_data",
          "data": {
            "image/png": "[encoded data removed]",
            "text/plain": [
              "<Figure size 720x504 with 1 Axes>"
            ]
          },
          "metadata": {
            "tags": [],
            "needs_background": "light"
          }
        }
      ]
    },
    {
      "cell_type": "markdown",
      "metadata": {
        "id": "7roRIxPgO2--"
      },
      "source": [
        "Vamos utilizar a biblioteca **Matplotlib**, essa é uma biblioteca de software para criação de gráficos e visualizações de dados em geral, feita para e da linguagem de programação Python e sua extensão de matemática NumPy."
      ]
    },
    {
      "cell_type": "code",
      "metadata": {
        "colab": {
          "base_uri": "https://localhost:8080/",
          "height": 566
        },
        "id": "8VMNuYyZEjq1",
        "outputId": "ad226a23-8495-4336-8179-f6bdb0b9f8b6"
      },
      "source": [
        "import matplotlib.pyplot as plt\n",
        "import matplotlib.ticker as ticker\n",
        "\n",
        "ax = dados.plot(x = \"Unidade da Federação\", y = \"2008/Ago\", kind = \"bar\", figsize=(10 , 7))\n",
        "ax.yaxis.set_major_formatter(ticker.StrMethodFormatter(\"{x:,.2f}\"))\n",
        "\n",
        "plt.title(\"Valor por unidade da federação\")\n",
        "plt.show()"
      ],
      "execution_count": null,
      "outputs": [
        {
          "output_type": "display_data",
          "data": {
            "image/png": "[encoded data removed]",
            "text/plain": [
              "<Figure size 720x504 with 1 Axes>"
            ]
          },
          "metadata": {
            "tags": [],
            "needs_background": "light"
          }
        }
      ]
    },
    {
      "cell_type": "markdown",
      "metadata": {
        "id": "go9fCdeIGdKC"
      },
      "source": [
        "## Desafio 1: Escolher um título mais criativo, que passe a mensagem adequada"
      ]
    },
    {
      "cell_type": "code",
      "metadata": {
        "colab": {
          "base_uri": "https://localhost:8080/",
          "height": 583
        },
        "id": "8AJfBSsFGn-z",
        "outputId": "846ebfd0-3138-49b0-ccae-7b6ae6a444ff"
      },
      "source": [
        "ax = dados.plot(x = \"Unidade da Federação\", y = \"2008/Ago\", kind = \"bar\", figsize=(10 , 7))\n",
        "ax.yaxis.set_major_formatter(ticker.StrMethodFormatter(\"{x:,.2f}\"))\n",
        "\n",
        "plt.title(\"Gastos do SUS (R$) por Unidade da Federação - Agosto de 2008\")"
      ],
      "execution_count": null,
      "outputs": [
        {
          "output_type": "execute_result",
          "data": {
            "text/plain": [
              "Text(0.5, 1.0, 'Gastos do SUS (R$) por Unidade da Federação - Agosto de 2008')"
            ]
          },
          "metadata": {
            "tags": []
          },
          "execution_count": 12
        },
        {
          "output_type": "display_data",
          "data": {
            "image/png": "[encoded data removed]",
            "text/plain": [
              "<Figure size 720x504 with 1 Axes>"
            ]
          },
          "metadata": {
            "tags": [],
            "needs_background": "light"
          }
        }
      ]
    },
    {
      "cell_type": "markdown",
      "metadata": {
        "id": "vxxD_hL-G-3z"
      },
      "source": [
        "## Desafio 2: Faça a mesma análise para o mês mais recente\n"
      ]
    },
    {
      "cell_type": "code",
      "metadata": {
        "colab": {
          "base_uri": "https://localhost:8080/"
        },
        "id": "5U2vTaWdHLpi",
        "outputId": "5ecb8703-ecf0-45a0-bac6-dc4e25a6b159"
      },
      "source": [
        "# Média do mês Março 2021\n",
        "dados[\"2021/Mar\"]"
      ],
      "execution_count": null,
      "outputs": [
        {
          "output_type": "execute_result",
          "data": {
            "text/plain": [
              "0     11023309.47\n",
              "1      4077045.92\n",
              "2     22032176.22\n",
              "3      3985530.08\n",
              "4     33276392.89\n",
              "5      3188210.98\n",
              "6      1357751.33\n",
              "7     39663677.48\n",
              "8     20018325.75\n",
              "9     62079618.54\n",
              "10    23306498.68\n",
              "11    25750897.89\n",
              "12    83870992.73\n",
              "13    22118639.05\n",
              "14    13321494.41\n",
              "15    98746333.07\n",
              "16   200471045.07\n",
              "17    45490499.45\n",
              "18   106837295.81\n",
              "19   392946147.42\n",
              "20   140264608.52\n",
              "21    81376630.57\n",
              "22   130155185.16\n",
              "23    25168195.34\n",
              "24    19611032.61\n",
              "25    45592686.49\n",
              "26    31831917.45\n",
              "Name: 2021/Mar, dtype: float64"
            ]
          },
          "metadata": {
            "tags": []
          },
          "execution_count": 13
        }
      ]
    },
    {
      "cell_type": "code",
      "metadata": {
        "colab": {
          "base_uri": "https://localhost:8080/"
        },
        "id": "C2SjJigpHwPp",
        "outputId": "d09bd979-507d-492b-a6fb-f7c6a6f70b4e"
      },
      "source": [
        "# Média do mês Março 2021\n",
        "dados[\"2021/Mar\"].mean()"
      ],
      "execution_count": null,
      "outputs": [
        {
          "output_type": "execute_result",
          "data": {
            "text/plain": [
              "62502301.42148148"
            ]
          },
          "metadata": {
            "tags": []
          },
          "execution_count": 14
        }
      ]
    },
    {
      "cell_type": "code",
      "metadata": {
        "colab": {
          "base_uri": "https://localhost:8080/",
          "height": 512
        },
        "id": "VzMChw_7P-IX",
        "outputId": "1fe06529-e3a9-4038-c091-4dddeafd4f64"
      },
      "source": [
        "ax = dados.plot(x=\"Unidade da Federação\", y=\"2021/Mar\", kind=\"bar\",figsize=(10,6))\n",
        "ax.yaxis.set_major_formatter(ticker.StrMethodFormatter(\"R$ {x:,.2f}\"))\n",
        "plt.title(\"Gastos do SUS (R$) por Unidade da Federação - Março de 2021\")\n",
        "plt.show()"
      ],
      "execution_count": null,
      "outputs": [
        {
          "output_type": "display_data",
          "data": {
            "image/png": "[encoded data removed]",
            "text/plain": [
              "<Figure size 720x432 with 1 Axes>"
            ]
          },
          "metadata": {
            "tags": [],
            "needs_background": "light"
          }
        }
      ]
    },
    {
      "cell_type": "markdown",
      "metadata": {
        "id": "Pe4pEf7-RLyT"
      },
      "source": [
        "Vamos ordenar o gráfico para que seja mais fácil analisar os gastos pelos estados"
      ]
    },
    {
      "cell_type": "code",
      "metadata": {
        "colab": {
          "base_uri": "https://localhost:8080/",
          "height": 512
        },
        "id": "2pdJGd1qHTOh",
        "outputId": "493ed068-724c-4b4d-a7e1-4dd4074244ac"
      },
      "source": [
        "ax = dados.sort_values(by=\"2021/Mar\", ascending=True).plot(x=\"Unidade da Federação\", y=\"2021/Mar\", kind=\"bar\",figsize=(10,6))\n",
        "ax.yaxis.set_major_formatter(ticker.StrMethodFormatter(\"R$ {x:,.2f}\"))\n",
        "plt.title(\"Gastos do SUS (R$) por Unidade da Federação - Março de 2021\")\n",
        "plt.show()"
      ],
      "execution_count": null,
      "outputs": [
        {
          "output_type": "display_data",
          "data": {
            "image/png": "[encoded data removed]",
            "text/plain": [
              "<Figure size 720x432 with 1 Axes>"
            ]
          },
          "metadata": {
            "tags": [],
            "needs_background": "light"
          }
        }
      ]
    }
  ]
}