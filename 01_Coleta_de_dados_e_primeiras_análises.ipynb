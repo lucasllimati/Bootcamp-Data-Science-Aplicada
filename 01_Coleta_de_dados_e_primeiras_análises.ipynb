{
  "nbformat": 4,
  "nbformat_minor": 0,
  "metadata": {
    "colab": {
      "name": "01.Coleta de dados e primeiras análises",
      "provenance": [],
      "collapsed_sections": [],
      "toc_visible": true,
      "authorship_tag": "ABX9TyPo1W0JvomAHkR/GzvWAdTA",
      "include_colab_link": true
    },
    "kernelspec": {
      "name": "python3",
      "display_name": "Python 3"
    },
    "language_info": {
      "name": "python"
    }
  },
  "cells": [
    {
      "cell_type": "markdown",
      "metadata": {
        "id": "view-in-github",
        "colab_type": "text"
      },
      "source": [
        "<a href=\"https://colab.research.google.com/github/lucasllimati/Bootcamp-Data-Science-Aplicada/blob/main/01_Coleta_de_dados_e_primeiras_an%C3%A1lises.ipynb\" target=\"_parent\"><img src=\"https://colab.research.google.com/assets/colab-badge.svg\" alt=\"Open In Colab\"/></a>"
      ]
    },
    {
      "cell_type": "markdown",
      "metadata": {
        "id": "-fJ9P_22-Yn4"
      },
      "source": [
        "# 01.Aquisição e leitura de dados reais\n",
        "\n",
        "Analisando dados de COVID com Python e Pandas\n",
        "Dataset: https://www.seade.gov.br/coronavirus/\n"
      ]
    },
    {
      "cell_type": "code",
      "metadata": {
        "id": "teld9dSLoYiA"
      },
      "source": [
        "url = 'https://github.com/allanspadini/Prophet_covid/raw/main/dados_covid_sp.zip'"
      ],
      "execution_count": 1,
      "outputs": []
    },
    {
      "cell_type": "code",
      "metadata": {
        "id": "6R-Xqm4jo2-f"
      },
      "source": [
        "import pandas as pd"
      ],
      "execution_count": 3,
      "outputs": []
    },
    {
      "cell_type": "code",
      "metadata": {
        "id": "nc5Q6joRo9Ca"
      },
      "source": [
        "dados = pd.read_csv(url, sep=';')"
      ],
      "execution_count": 5,
      "outputs": []
    },
    {
      "cell_type": "code",
      "metadata": {
        "colab": {
          "base_uri": "https://localhost:8080/",
          "height": 377
        },
        "id": "iLGbX9KfpErC",
        "outputId": "2ea21b74-a51d-44bb-9ac7-7c9a1c7335d6"
      },
      "source": [
        "dados.head()"
      ],
      "execution_count": 6,
      "outputs": [
        {
          "output_type": "execute_result",
          "data": {
            "text/html": [
              "<div>\n",
              "<style scoped>\n",
              "    .dataframe tbody tr th:only-of-type {\n",
              "        vertical-align: middle;\n",
              "    }\n",
              "\n",
              "    .dataframe tbody tr th {\n",
              "        vertical-align: top;\n",
              "    }\n",
              "\n",
              "    .dataframe thead th {\n",
              "        text-align: right;\n",
              "    }\n",
              "</style>\n",
              "<table border=\"1\" class=\"dataframe\">\n",
              "  <thead>\n",
              "    <tr style=\"text-align: right;\">\n",
              "      <th></th>\n",
              "      <th>nome_munic</th>\n",
              "      <th>codigo_ibge</th>\n",
              "      <th>dia</th>\n",
              "      <th>mes</th>\n",
              "      <th>datahora</th>\n",
              "      <th>casos</th>\n",
              "      <th>casos_novos</th>\n",
              "      <th>casos_pc</th>\n",
              "      <th>casos_mm7d</th>\n",
              "      <th>obitos</th>\n",
              "      <th>obitos_novos</th>\n",
              "      <th>obitos_pc</th>\n",
              "      <th>obitos_mm7d</th>\n",
              "      <th>letalidade</th>\n",
              "      <th>nome_ra</th>\n",
              "      <th>cod_ra</th>\n",
              "      <th>nome_drs</th>\n",
              "      <th>cod_drs</th>\n",
              "      <th>pop</th>\n",
              "      <th>pop_60</th>\n",
              "      <th>area</th>\n",
              "      <th>map_leg</th>\n",
              "      <th>map_leg_s</th>\n",
              "      <th>latitude</th>\n",
              "      <th>longitude</th>\n",
              "      <th>semana_epidem</th>\n",
              "    </tr>\n",
              "  </thead>\n",
              "  <tbody>\n",
              "    <tr>\n",
              "      <th>0</th>\n",
              "      <td>Adamantina</td>\n",
              "      <td>3500105</td>\n",
              "      <td>25</td>\n",
              "      <td>2</td>\n",
              "      <td>2020-02-25</td>\n",
              "      <td>0</td>\n",
              "      <td>0</td>\n",
              "      <td>0,000000e+00</td>\n",
              "      <td>0,0000000</td>\n",
              "      <td>0</td>\n",
              "      <td>0</td>\n",
              "      <td>0,000000e+00</td>\n",
              "      <td>0,0000000</td>\n",
              "      <td>0,0000000000</td>\n",
              "      <td>RA de Presidente Prudente</td>\n",
              "      <td>9</td>\n",
              "      <td>Marília</td>\n",
              "      <td>5</td>\n",
              "      <td>33894</td>\n",
              "      <td>7398</td>\n",
              "      <td>41199</td>\n",
              "      <td>0</td>\n",
              "      <td>8.0</td>\n",
              "      <td>-21,6820</td>\n",
              "      <td>-51,0737</td>\n",
              "      <td>9</td>\n",
              "    </tr>\n",
              "    <tr>\n",
              "      <th>1</th>\n",
              "      <td>Adolfo</td>\n",
              "      <td>3500204</td>\n",
              "      <td>25</td>\n",
              "      <td>2</td>\n",
              "      <td>2020-02-25</td>\n",
              "      <td>0</td>\n",
              "      <td>0</td>\n",
              "      <td>0,000000e+00</td>\n",
              "      <td>0,0000000</td>\n",
              "      <td>0</td>\n",
              "      <td>0</td>\n",
              "      <td>0,000000e+00</td>\n",
              "      <td>0,0000000</td>\n",
              "      <td>0,0000000000</td>\n",
              "      <td>RA de São José do Rio Preto</td>\n",
              "      <td>14</td>\n",
              "      <td>São José do Rio Preto</td>\n",
              "      <td>15</td>\n",
              "      <td>3447</td>\n",
              "      <td>761</td>\n",
              "      <td>21106</td>\n",
              "      <td>0</td>\n",
              "      <td>8.0</td>\n",
              "      <td>-21,2325</td>\n",
              "      <td>-49,6451</td>\n",
              "      <td>9</td>\n",
              "    </tr>\n",
              "    <tr>\n",
              "      <th>2</th>\n",
              "      <td>Aguaí</td>\n",
              "      <td>3500303</td>\n",
              "      <td>25</td>\n",
              "      <td>2</td>\n",
              "      <td>2020-02-25</td>\n",
              "      <td>0</td>\n",
              "      <td>0</td>\n",
              "      <td>0,000000e+00</td>\n",
              "      <td>0,0000000</td>\n",
              "      <td>0</td>\n",
              "      <td>0</td>\n",
              "      <td>0,000000e+00</td>\n",
              "      <td>0,0000000</td>\n",
              "      <td>0,0000000000</td>\n",
              "      <td>RA de Campinas</td>\n",
              "      <td>4</td>\n",
              "      <td>São João da Boa Vista</td>\n",
              "      <td>14</td>\n",
              "      <td>35608</td>\n",
              "      <td>5245</td>\n",
              "      <td>47455</td>\n",
              "      <td>0</td>\n",
              "      <td>8.0</td>\n",
              "      <td>-22,0572</td>\n",
              "      <td>-46,9735</td>\n",
              "      <td>9</td>\n",
              "    </tr>\n",
              "    <tr>\n",
              "      <th>3</th>\n",
              "      <td>Águas da Prata</td>\n",
              "      <td>3500402</td>\n",
              "      <td>25</td>\n",
              "      <td>2</td>\n",
              "      <td>2020-02-25</td>\n",
              "      <td>0</td>\n",
              "      <td>0</td>\n",
              "      <td>0,000000e+00</td>\n",
              "      <td>0,0000000</td>\n",
              "      <td>0</td>\n",
              "      <td>0</td>\n",
              "      <td>0,000000e+00</td>\n",
              "      <td>0,0000000</td>\n",
              "      <td>0,0000000000</td>\n",
              "      <td>RA de Campinas</td>\n",
              "      <td>4</td>\n",
              "      <td>São João da Boa Vista</td>\n",
              "      <td>14</td>\n",
              "      <td>7797</td>\n",
              "      <td>1729</td>\n",
              "      <td>14267</td>\n",
              "      <td>0</td>\n",
              "      <td>8.0</td>\n",
              "      <td>-21,9319</td>\n",
              "      <td>-46,7176</td>\n",
              "      <td>9</td>\n",
              "    </tr>\n",
              "    <tr>\n",
              "      <th>4</th>\n",
              "      <td>Águas de Lindóia</td>\n",
              "      <td>3500501</td>\n",
              "      <td>25</td>\n",
              "      <td>2</td>\n",
              "      <td>2020-02-25</td>\n",
              "      <td>0</td>\n",
              "      <td>0</td>\n",
              "      <td>0,000000e+00</td>\n",
              "      <td>0,0000000</td>\n",
              "      <td>0</td>\n",
              "      <td>0</td>\n",
              "      <td>0,000000e+00</td>\n",
              "      <td>0,0000000</td>\n",
              "      <td>0,0000000000</td>\n",
              "      <td>RA de Campinas</td>\n",
              "      <td>4</td>\n",
              "      <td>Campinas</td>\n",
              "      <td>3</td>\n",
              "      <td>18374</td>\n",
              "      <td>3275</td>\n",
              "      <td>6013</td>\n",
              "      <td>0</td>\n",
              "      <td>8.0</td>\n",
              "      <td>-22,4733</td>\n",
              "      <td>-46,6314</td>\n",
              "      <td>9</td>\n",
              "    </tr>\n",
              "  </tbody>\n",
              "</table>\n",
              "</div>"
            ],
            "text/plain": [
              "         nome_munic  codigo_ibge  dia  ...  latitude longitude  semana_epidem\n",
              "0        Adamantina      3500105   25  ...  -21,6820  -51,0737              9\n",
              "1            Adolfo      3500204   25  ...  -21,2325  -49,6451              9\n",
              "2             Aguaí      3500303   25  ...  -22,0572  -46,9735              9\n",
              "3    Águas da Prata      3500402   25  ...  -21,9319  -46,7176              9\n",
              "4  Águas de Lindóia      3500501   25  ...  -22,4733  -46,6314              9\n",
              "\n",
              "[5 rows x 26 columns]"
            ]
          },
          "metadata": {
            "tags": []
          },
          "execution_count": 6
        }
      ]
    },
    {
      "cell_type": "code",
      "metadata": {
        "id": "6DbPTdQdpbxR"
      },
      "source": [
        "dados['datahora'] = pd.to_datetime(dados['datahora'],format='%Y-%m-%d')"
      ],
      "execution_count": 10,
      "outputs": []
    },
    {
      "cell_type": "code",
      "metadata": {
        "id": "8fGl8M2qp-a5"
      },
      "source": [
        "import matplotlib as mpl"
      ],
      "execution_count": 12,
      "outputs": []
    },
    {
      "cell_type": "code",
      "metadata": {
        "id": "W2oq9MOTqCGL"
      },
      "source": [
        "mpl.rcParams['font.size'] = 18\n",
        "mpl.rcParams['figure.figsize'] = (15,8)"
      ],
      "execution_count": 14,
      "outputs": []
    },
    {
      "cell_type": "code",
      "metadata": {
        "id": "6dXLh6qppKCV"
      },
      "source": [
        "import seaborn as sns"
      ],
      "execution_count": 7,
      "outputs": []
    },
    {
      "cell_type": "code",
      "metadata": {
        "colab": {
          "base_uri": "https://localhost:8080/",
          "height": 530
        },
        "id": "YmwpLeRspNlQ",
        "outputId": "77a1210c-e8d6-4c61-c263-c1b52b0593c2"
      },
      "source": [
        "sns.lineplot(x='datahora', y='casos', data=dados)"
      ],
      "execution_count": 15,
      "outputs": [
        {
          "output_type": "execute_result",
          "data": {
            "text/plain": [
              "<matplotlib.axes._subplots.AxesSubplot at 0x7f0c4cee9150>"
            ]
          },
          "metadata": {
            "tags": []
          },
          "execution_count": 15
        },
        {
          "output_type": "display_data",
          "data": {
            "image/png": "[encoded data removed]",
            "text/plain": [
              "<Figure size 1080x576 with 1 Axes>"
            ]
          },
          "metadata": {
            "tags": [],
            "needs_background": "light"
          }
        }
      ]
    },
    {
      "cell_type": "code",
      "metadata": {
        "id": "I-jpqUQEpaii"
      },
      "source": [
        ""
      ],
      "execution_count": null,
      "outputs": []
    }
  ]
}